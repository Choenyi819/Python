{
  "nbformat": 4,
  "nbformat_minor": 0,
  "metadata": {
    "colab": {
      "provenance": []
    },
    "kernelspec": {
      "name": "python3",
      "display_name": "Python 3"
    },
    "language_info": {
      "name": "python"
    }
  },
  "cells": [
    {
      "cell_type": "code",
      "execution_count": null,
      "metadata": {
        "id": "_KJ4jH0-06_C"
      },
      "outputs": [],
      "source": [
        "import numpy as np\n",
        "import matplotlib.pyplot as plt\n",
        "import pandas as pd\n",
        "from sklearn.cluster import KMeans"
      ]
    },
    {
      "cell_type": "code",
      "source": [
        "dataset= pd.read_csv(\"/content/food_coded.csv\")\n",
        "dataset.head()"
      ],
      "metadata": {
        "id": "ohZ7HF5E4wdW",
        "colab": {
          "base_uri": "https://localhost:8080/",
          "height": 206
        },
        "outputId": "393f448c-521f-4aa0-c9c6-7a3b1aa4e454"
      },
      "execution_count": null,
      "outputs": [
        {
          "output_type": "execute_result",
          "data": {
            "text/plain": [
              "   cook  eating_out  employment  ethnic_food  exercise  fruit_day  income  \\\n",
              "0     2           3           3            1         1          5       5   \n",
              "1     3           2           2            4         1          4       4   \n",
              "2     1           2           3            5         2          5       6   \n",
              "3     2           2           3            5         3          4       6   \n",
              "4     1           2           2            4         1          4       6   \n",
              "\n",
              "   on_off_campus  pay_meal_out  sports  veggies_day  \n",
              "0              1             2       1            5  \n",
              "1              1             4       1            4  \n",
              "2              2             3       2            5  \n",
              "3              1             2       2            3  \n",
              "4              1             4       1            4  "
            ],
            "text/html": [
              "\n",
              "  <div id=\"df-75c11ae3-ba6e-4412-9eec-47243c40f5ae\">\n",
              "    <div class=\"colab-df-container\">\n",
              "      <div>\n",
              "<style scoped>\n",
              "    .dataframe tbody tr th:only-of-type {\n",
              "        vertical-align: middle;\n",
              "    }\n",
              "\n",
              "    .dataframe tbody tr th {\n",
              "        vertical-align: top;\n",
              "    }\n",
              "\n",
              "    .dataframe thead th {\n",
              "        text-align: right;\n",
              "    }\n",
              "</style>\n",
              "<table border=\"1\" class=\"dataframe\">\n",
              "  <thead>\n",
              "    <tr style=\"text-align: right;\">\n",
              "      <th></th>\n",
              "      <th>cook</th>\n",
              "      <th>eating_out</th>\n",
              "      <th>employment</th>\n",
              "      <th>ethnic_food</th>\n",
              "      <th>exercise</th>\n",
              "      <th>fruit_day</th>\n",
              "      <th>income</th>\n",
              "      <th>on_off_campus</th>\n",
              "      <th>pay_meal_out</th>\n",
              "      <th>sports</th>\n",
              "      <th>veggies_day</th>\n",
              "    </tr>\n",
              "  </thead>\n",
              "  <tbody>\n",
              "    <tr>\n",
              "      <th>0</th>\n",
              "      <td>2</td>\n",
              "      <td>3</td>\n",
              "      <td>3</td>\n",
              "      <td>1</td>\n",
              "      <td>1</td>\n",
              "      <td>5</td>\n",
              "      <td>5</td>\n",
              "      <td>1</td>\n",
              "      <td>2</td>\n",
              "      <td>1</td>\n",
              "      <td>5</td>\n",
              "    </tr>\n",
              "    <tr>\n",
              "      <th>1</th>\n",
              "      <td>3</td>\n",
              "      <td>2</td>\n",
              "      <td>2</td>\n",
              "      <td>4</td>\n",
              "      <td>1</td>\n",
              "      <td>4</td>\n",
              "      <td>4</td>\n",
              "      <td>1</td>\n",
              "      <td>4</td>\n",
              "      <td>1</td>\n",
              "      <td>4</td>\n",
              "    </tr>\n",
              "    <tr>\n",
              "      <th>2</th>\n",
              "      <td>1</td>\n",
              "      <td>2</td>\n",
              "      <td>3</td>\n",
              "      <td>5</td>\n",
              "      <td>2</td>\n",
              "      <td>5</td>\n",
              "      <td>6</td>\n",
              "      <td>2</td>\n",
              "      <td>3</td>\n",
              "      <td>2</td>\n",
              "      <td>5</td>\n",
              "    </tr>\n",
              "    <tr>\n",
              "      <th>3</th>\n",
              "      <td>2</td>\n",
              "      <td>2</td>\n",
              "      <td>3</td>\n",
              "      <td>5</td>\n",
              "      <td>3</td>\n",
              "      <td>4</td>\n",
              "      <td>6</td>\n",
              "      <td>1</td>\n",
              "      <td>2</td>\n",
              "      <td>2</td>\n",
              "      <td>3</td>\n",
              "    </tr>\n",
              "    <tr>\n",
              "      <th>4</th>\n",
              "      <td>1</td>\n",
              "      <td>2</td>\n",
              "      <td>2</td>\n",
              "      <td>4</td>\n",
              "      <td>1</td>\n",
              "      <td>4</td>\n",
              "      <td>6</td>\n",
              "      <td>1</td>\n",
              "      <td>4</td>\n",
              "      <td>1</td>\n",
              "      <td>4</td>\n",
              "    </tr>\n",
              "  </tbody>\n",
              "</table>\n",
              "</div>\n",
              "      <button class=\"colab-df-convert\" onclick=\"convertToInteractive('df-75c11ae3-ba6e-4412-9eec-47243c40f5ae')\"\n",
              "              title=\"Convert this dataframe to an interactive table.\"\n",
              "              style=\"display:none;\">\n",
              "        \n",
              "  <svg xmlns=\"http://www.w3.org/2000/svg\" height=\"24px\"viewBox=\"0 0 24 24\"\n",
              "       width=\"24px\">\n",
              "    <path d=\"M0 0h24v24H0V0z\" fill=\"none\"/>\n",
              "    <path d=\"M18.56 5.44l.94 2.06.94-2.06 2.06-.94-2.06-.94-.94-2.06-.94 2.06-2.06.94zm-11 1L8.5 8.5l.94-2.06 2.06-.94-2.06-.94L8.5 2.5l-.94 2.06-2.06.94zm10 10l.94 2.06.94-2.06 2.06-.94-2.06-.94-.94-2.06-.94 2.06-2.06.94z\"/><path d=\"M17.41 7.96l-1.37-1.37c-.4-.4-.92-.59-1.43-.59-.52 0-1.04.2-1.43.59L10.3 9.45l-7.72 7.72c-.78.78-.78 2.05 0 2.83L4 21.41c.39.39.9.59 1.41.59.51 0 1.02-.2 1.41-.59l7.78-7.78 2.81-2.81c.8-.78.8-2.07 0-2.86zM5.41 20L4 18.59l7.72-7.72 1.47 1.35L5.41 20z\"/>\n",
              "  </svg>\n",
              "      </button>\n",
              "      \n",
              "  <style>\n",
              "    .colab-df-container {\n",
              "      display:flex;\n",
              "      flex-wrap:wrap;\n",
              "      gap: 12px;\n",
              "    }\n",
              "\n",
              "    .colab-df-convert {\n",
              "      background-color: #E8F0FE;\n",
              "      border: none;\n",
              "      border-radius: 50%;\n",
              "      cursor: pointer;\n",
              "      display: none;\n",
              "      fill: #1967D2;\n",
              "      height: 32px;\n",
              "      padding: 0 0 0 0;\n",
              "      width: 32px;\n",
              "    }\n",
              "\n",
              "    .colab-df-convert:hover {\n",
              "      background-color: #E2EBFA;\n",
              "      box-shadow: 0px 1px 2px rgba(60, 64, 67, 0.3), 0px 1px 3px 1px rgba(60, 64, 67, 0.15);\n",
              "      fill: #174EA6;\n",
              "    }\n",
              "\n",
              "    [theme=dark] .colab-df-convert {\n",
              "      background-color: #3B4455;\n",
              "      fill: #D2E3FC;\n",
              "    }\n",
              "\n",
              "    [theme=dark] .colab-df-convert:hover {\n",
              "      background-color: #434B5C;\n",
              "      box-shadow: 0px 1px 3px 1px rgba(0, 0, 0, 0.15);\n",
              "      filter: drop-shadow(0px 1px 2px rgba(0, 0, 0, 0.3));\n",
              "      fill: #FFFFFF;\n",
              "    }\n",
              "  </style>\n",
              "\n",
              "      <script>\n",
              "        const buttonEl =\n",
              "          document.querySelector('#df-75c11ae3-ba6e-4412-9eec-47243c40f5ae button.colab-df-convert');\n",
              "        buttonEl.style.display =\n",
              "          google.colab.kernel.accessAllowed ? 'block' : 'none';\n",
              "\n",
              "        async function convertToInteractive(key) {\n",
              "          const element = document.querySelector('#df-75c11ae3-ba6e-4412-9eec-47243c40f5ae');\n",
              "          const dataTable =\n",
              "            await google.colab.kernel.invokeFunction('convertToInteractive',\n",
              "                                                     [key], {});\n",
              "          if (!dataTable) return;\n",
              "\n",
              "          const docLinkHtml = 'Like what you see? Visit the ' +\n",
              "            '<a target=\"_blank\" href=https://colab.research.google.com/notebooks/data_table.ipynb>data table notebook</a>'\n",
              "            + ' to learn more about interactive tables.';\n",
              "          element.innerHTML = '';\n",
              "          dataTable['output_type'] = 'display_data';\n",
              "          await google.colab.output.renderOutput(dataTable, element);\n",
              "          const docLink = document.createElement('div');\n",
              "          docLink.innerHTML = docLinkHtml;\n",
              "          element.appendChild(docLink);\n",
              "        }\n",
              "      </script>\n",
              "    </div>\n",
              "  </div>\n",
              "  "
            ]
          },
          "metadata": {},
          "execution_count": 2
        }
      ]
    },
    {
      "cell_type": "code",
      "source": [
        "x = dataset.iloc[:, [0,1,2,3,4,5,6,7,8,9,10]].values"
      ],
      "metadata": {
        "id": "e5hEjAnM6Wbf"
      },
      "execution_count": null,
      "outputs": []
    },
    {
      "cell_type": "code",
      "source": [
        "kmeans5 = KMeans(n_clusters=5) #-means clustering with k = 5\n",
        "y_kmeans5 = kmeans5.fit_predict(x)\n",
        "print(y_kmeans5)\n",
        "\n",
        "kmeans5.cluster_centers_"
      ],
      "metadata": {
        "id": "CdDjRejw8_C9",
        "colab": {
          "base_uri": "https://localhost:8080/"
        },
        "outputId": "28b020fc-9c3a-40a6-ad0b-84235dd03411"
      },
      "execution_count": null,
      "outputs": [
        {
          "output_type": "stream",
          "name": "stdout",
          "text": [
            "[4 0 3 0 3 2 1 4 1 1 0 0 3 0 2 1 0 4 0 2 0 0 4 2 4 2 3 0 1 2 4 4 3 0 0 4 0\n",
            " 1 3 0 0 1 3 3 1 3 4 3 3 2 4 3 1 2 0 0 4 1 3 0 3 1 0 2 2 4 0 2 2 3 4 0 0 1\n",
            " 4 2 2 0 0 2 4 3 1 0 1 1 4 4 2 2 3 2 2 4 1 1 1 1 1 4]\n"
          ]
        },
        {
          "output_type": "execute_result",
          "data": {
            "text/plain": [
              "array([[3.4       , 1.88      , 2.48      , 4.24      , 1.76      ,\n",
              "        4.12      , 5.24      , 1.12      , 3.24      , 1.2       ,\n",
              "        4.16      ],\n",
              "       [2.55      , 2.35      , 2.3       , 4.2       , 1.55      ,\n",
              "        4.7       , 2.8       , 1.65      , 2.95      , 1.55      ,\n",
              "        4.75      ],\n",
              "       [2.57894737, 2.57894737, 2.36842105, 2.84210526, 1.89473684,\n",
              "        3.        , 4.21052632, 1.36842105, 3.73684211, 1.52631579,\n",
              "        2.31578947],\n",
              "       [1.94117647, 3.29411765, 2.64705882, 4.76470588, 1.29411765,\n",
              "        4.82352941, 5.58823529, 1.58823529, 3.94117647, 1.17647059,\n",
              "        4.58823529],\n",
              "       [3.05263158, 2.78947368, 2.47368421, 2.21052632, 1.42105263,\n",
              "        4.68421053, 5.47368421, 1.15789474, 3.47368421, 1.31578947,\n",
              "        4.05263158]])"
            ]
          },
          "metadata": {},
          "execution_count": 4
        }
      ]
    },
    {
      "cell_type": "code",
      "source": [
        "Error =[]  #elbow method to calculate the optimum value of k\n",
        "for i in range(1, 100):\n",
        "    #kmeans = KMeans(n_clusters = i).fit(x)\n",
        "    kmeans = KMeans(n_clusters = i, init = 'k-means++', n_init = 10, max_iter = 300, random_state = 0)\n",
        "    kmeans.fit(x)\n",
        "    Error.append(kmeans.inertia_)\n",
        "plt.plot(range(1, 100), Error)\n",
        "plt.title('Elbow method')\n",
        "plt.xlabel('No of clusters')\n",
        "plt.ylabel('Error')\n",
        "plt.show()"
      ],
      "metadata": {
        "id": "UIGMcSW_7xpH",
        "colab": {
          "base_uri": "https://localhost:8080/",
          "height": 295
        },
        "outputId": "2136ab2c-bef7-416e-fb2f-6fefd1027737"
      },
      "execution_count": null,
      "outputs": [
        {
          "output_type": "display_data",
          "data": {
            "text/plain": [
              "<Figure size 432x288 with 1 Axes>"
            ],
            "image/png": "[encoded data removed]"
          },
          "metadata": {
            "needs_background": "light"
          }
        }
      ]
    },
    {
      "cell_type": "code",
      "source": [
        "kmeans3 = KMeans(n_clusters=10) #-means clustering with k = 3\n",
        "y_kmeans3 = kmeans3.fit_predict(x)\n",
        "print(y_kmeans3)"
      ],
      "metadata": {
        "id": "HeSF4i-fqeFr",
        "colab": {
          "base_uri": "https://localhost:8080/"
        },
        "outputId": "6552f08a-e152-493a-ec8e-b6d4c73b05f8"
      },
      "execution_count": null,
      "outputs": [
        {
          "output_type": "stream",
          "name": "stdout",
          "text": [
            "[5 4 1 4 6 2 4 5 1 7 4 4 1 4 9 7 8 5 0 8 8 4 5 8 8 3 1 4 4 2 5 5 1 8 4 0 4\n",
            " 7 6 4 4 2 1 6 9 1 5 6 1 3 9 1 7 8 1 4 5 7 6 4 3 2 4 3 3 5 4 3 2 1 5 4 5 7\n",
            " 5 3 9 4 4 3 5 0 7 4 4 4 5 3 2 8 1 3 2 8 7 7 7 4 2 9]\n"
          ]
        }
      ]
    },
    {
      "cell_type": "code",
      "source": [
        "kmeans3.cluster_centers_"
      ],
      "metadata": {
        "colab": {
          "base_uri": "https://localhost:8080/"
        },
        "id": "T2mZfvIxKlj3",
        "outputId": "d59a0fb5-e608-4e4d-d221-bcecd98b79c7"
      },
      "execution_count": null,
      "outputs": [
        {
          "output_type": "execute_result",
          "data": {
            "text/plain": [
              "array([[4.66666667, 4.66666667, 2.66666667, 4.        , 1.33333333,\n",
              "        4.        , 6.        , 2.33333333, 3.66666667, 1.        ,\n",
              "        3.33333333],\n",
              "       [2.41666667, 3.58333333, 2.75      , 4.91666667, 1.33333333,\n",
              "        5.        , 5.41666667, 1.25      , 3.25      , 1.25      ,\n",
              "        4.66666667],\n",
              "       [3.25      , 2.375     , 3.        , 3.625     , 1.875     ,\n",
              "        3.5       , 2.5       , 1.5       , 4.25      , 1.625     ,\n",
              "        3.125     ],\n",
              "       [2.        , 2.6       , 2.1       , 2.7       , 2.        ,\n",
              "        3.2       , 4.9       , 1.6       , 2.9       , 1.7       ,\n",
              "        2.3       ],\n",
              "       [3.04166667, 1.79166667, 2.5       , 4.41666667, 1.79166667,\n",
              "        4.375     , 4.83333333, 1.375     , 3.        , 1.33333333,\n",
              "        4.33333333],\n",
              "       [2.92857143, 2.35714286, 2.5       , 2.21428571, 1.42857143,\n",
              "        4.64285714, 5.42857143, 1.14285714, 3.28571429, 1.28571429,\n",
              "        4.35714286],\n",
              "       [1.2       , 2.        , 2.2       , 4.8       , 1.2       ,\n",
              "        4.8       , 5.4       , 1.4       , 5.2       , 1.        ,\n",
              "        4.8       ],\n",
              "       [2.4       , 2.3       , 2.        , 4.3       , 1.6       ,\n",
              "        5.        , 2.3       , 1.4       , 2.7       , 1.5       ,\n",
              "        5.        ],\n",
              "       [3.11111111, 1.88888889, 2.33333333, 3.        , 1.44444444,\n",
              "        3.55555556, 5.77777778, 1.22222222, 5.11111111, 1.22222222,\n",
              "        3.22222222],\n",
              "       [3.        , 4.8       , 2.4       , 1.8       , 1.4       ,\n",
              "        3.4       , 4.        , 1.        , 2.8       , 1.2       ,\n",
              "        3.2       ]])"
            ]
          },
          "metadata": {},
          "execution_count": 7
        }
      ]
    },
    {
      "cell_type": "code",
      "source": [
        "fig = plt.figure(figsize =(15, 7))\n",
        "plt.scatter(x[:, 0], x[:, 1], c = y_kmeans3, cmap='rainbow')\n",
        "#plt.scatter(x[y_kmeans3 == 0, 0], x[y_kmeans3 == 0, 1], s = 100, c = 'red', label = 'Cluster1')"
      ],
      "metadata": {
        "colab": {
          "base_uri": "https://localhost:8080/",
          "height": 445
        },
        "id": "9HqXQQ6rIttn",
        "outputId": "fed70f5e-6885-4714-f9e7-fa29c2abed47"
      },
      "execution_count": null,
      "outputs": [
        {
          "output_type": "execute_result",
          "data": {
            "text/plain": [
              "<matplotlib.collections.PathCollection at 0x7fc3e93c0310>"
            ]
          },
          "metadata": {},
          "execution_count": 9
        },
        {
          "output_type": "display_data",
          "data": {
            "text/plain": [
              "<Figure size 1080x504 with 1 Axes>"
            ],
            "image/png": "[encoded data removed]"
          },
          "metadata": {
            "needs_background": "light"
          }
        }
      ]
    },
    {
      "cell_type": "code",
      "source": [],
      "metadata": {
        "id": "JGfGDcsiK9Bz"
      },
      "execution_count": null,
      "outputs": []
    }
  ]
}